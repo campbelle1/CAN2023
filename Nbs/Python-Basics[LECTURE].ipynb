{
 "cells": [
  {
   "cell_type": "markdown",
   "id": "02839d01",
   "metadata": {
    "slideshow": {
     "slide_type": "-"
    }
   },
   "source": [
    "# Welcome to Jupyter Notebooks!\n",
    "\n",
    "In this course, we will be using JupyterLab notebooks to practice coding in Python. JupyterLab notebooks provide an interactive way to construct and visualize Python code in one setting. Let's do a walk-through of the JupyterLab environment:\n",
    "\n",
    "When we open a notebook, the notebook runs out of what is called a **kernel**. A kernel is an instance or a *session* in which you may type and run Python code in a shell. JupyterLab Notebooks requires a server to run so that the notebook can open on your default browser. Notebooks can be opened from the server, which acts as a virtual computer for the purposes of this course. Later, we will learn how to understand the organization of files and directories (i.e. folders) through *filepaths*.\n",
    "\n",
    "## Opening and renaming Jupyter Notebooks\n",
    "\n",
    "An example of a workspace in JupyterLab is shown below:\n",
    "\n",
    "- ***Notebook***: The space where you can run and visualize Python code\n",
    "- ***Current working directory***: The folder where your opened notebook is housed and potentially other files\n",
    "- ***Menubar***: provides options for managing and modifying the workspace\n",
    "\n",
    "<img src=\"https://raw.githubusercontent.com/campbelle1/CAN2023/7a7c88805f673e5520434db93461f69c850941f2/Jupyter-workspace.png\" width=\"1000\" align=\"center\">\n",
    "\n",
    "\n",
    "If you have any other notebooks within your current working directory, you can open them by simply clicking the name of the notebook from the side tab. If you navigate to `File > New` at the top left corner, you will see the option to create a new notebook. When making a new notebook, we want to click on `New > Python 3 (ipykernel)` because we are working in Python.\n",
    "\n",
    "\n",
    "<img src=\"https://raw.githubusercontent.com/campbelle1/CAN2023/d49ec1f3a1f3f05bc54c4e195cc3f114b83e9337/(2)Open_NewNb.gif\" width=\"1000\" align=\"center\">\n",
    "\n",
    "> *Opening a new Jupyter Notebook*\n",
    "\n",
    "Doing so will create an untitled notebook in a new window. If you go to `File > Rename Notebook...`, you can rename this notebook to whatever you like. You can also right-click on the tab of the notebook and rename it from there. If you ever decide that you want to create a new Python notebook, this is one way to do it.\n",
    "\n",
    "\n",
    "****"
   ]
  },
  {
   "cell_type": "markdown",
   "id": "99863b14",
   "metadata": {},
   "source": [
    "## Code and markdown cells\n",
    "\n",
    "In a Python notebook, there are two types of cells: **code** cells and **markdown** cells. \n",
    "\n",
    "### Code cells\n",
    "- Can be executed to perform a certain task and/or give a certain output. \n",
    "- Can also contain *comments*, which are demarcated by a hashtag ( # ). Comments are not executed by the computer, but can be useful for a human reader in understanding the code. \n",
    "\n",
    "\n",
    "### Markdown cells\n",
    "- Used to make human-readable text and graphics (like this cell that you're reading currently). \n",
    "- Utilizes some HTML code elements for modifying text and pictures (see below). \n",
    "- When executed, markdown code renders all text and graphics in a readable form. \n",
    "\n",
    "**You can change the type of cell by navigating to the dropdown menu in the toolbar and selecting either** `Code` **or** `Markdown`**.**\n",
    "\n",
    "<img src=\"https://raw.githubusercontent.com/campbelle1/CAN2023/main/(2)Code_Markdown.gif\" width=\"1000\" align=\"center\">\n",
    "\n",
    "> *Changing between a code and markdown cell*\n",
    "\n",
    "### <u>Examples of each cell type are given below:</u>"
   ]
  },
  {
   "cell_type": "code",
   "execution_count": null,
   "id": "64f41048",
   "metadata": {},
   "outputs": [],
   "source": [
    "# This is a code cell.\n",
    "# Code cells execute written code that is not commented away by a hashtag\n",
    "# When you run a line that is commented away, the line is skipped over.\n",
    "# Nothing will happen if you run this cell."
   ]
  },
  {
   "cell_type": "markdown",
   "id": "c15a28df",
   "metadata": {},
   "source": [
    "### This is a markdown cell (with a H3 header).\n",
    "\n",
    "> You can find *text*, **links**, <u>photos</u>, etc. in markdown cells.\n",
    "\n",
    "- For more information on markdown features, refer to the **Markdown in Jupyter Notebook Tutorial** by Datacamp <a href=\"https://www.datacamp.com/tutorial/markdown-in-jupyter-notebook\">here</a>.\n",
    "\n",
    "---"
   ]
  },
  {
   "cell_type": "markdown",
   "id": "8dc6244d",
   "metadata": {},
   "source": [
    "## Creating, deleting, and moving cells\n",
    "\n",
    "Adding and deleting cells are important functionalities within Jupyter notebooks. Shown below is the notebook toolbar with options that are important for managing cells and working in the JupyterLab workspace:\n",
    "\n",
    "<img src=\"https://raw.githubusercontent.com/campbelle1/CAN2023/main/Screenshot%202023-06-04%20at%201.46.34%20PM.png\" width=\"1000\" align=\"center\">\n",
    "\n",
    "> *Icons for adding, deleting, and moving cells*\n",
    "\n",
    "- ***Save***: Save your notebook and create a checkpoint. If you need to revert to the version of the notebook at the last save, go to `File > Revert Notebook to Checkpoint` in the menubar to access this version.\n",
    "- ***Add***: Creates a new cell. The new cell will be added immediated after the current selected cell.\n",
    "- ***Cut***: Takes out selected cell(s) and stores it in the clipboard.\n",
    "- ***Copy***: Copies selected cell(s) to the clipboard.\n",
    "- ***Paste***: Pastes cells from the clipboard immediately after the selected cell(s).\n",
    "- ***Copy & Paste***: Automatically duplicates the selected cell(s) below the selection.\n",
    "- ***Move Up/Down***: Moves the selected cells up and down the notebook.\n",
    "- ***Insert Above/Below***: Creates a new cell above or below the selected cells.\n",
    "- ***Delete***: Deletes the selected cells\n",
    "\n"
   ]
  },
  {
   "cell_type": "markdown",
   "id": "86e12753",
   "metadata": {},
   "source": [
    "****\n",
    "\n",
    "## Running cells\n",
    "\n",
    "To run a selected cell, you can utilize three options from the `Run` tab in the menu bar: \n",
    "\n",
    "- The `Run Selected Cells` option will simply run a selected cell(s) show the output, and advance ot the next cell. This option can also be done by clicking the *run cell* option within the notebook toolbar. If a subsequent cell does not exist, a new cell is created.\n",
    "\n",
    "- The `Run Selected Cells and Insert Below` option will run the selected cell(s), show the output, and then insert a new cell.  \n",
    "\n",
    "- The `Run Selected Cells and Do not Advance` option will run the selected cell(s) and show the output, but will not select the subsequent cell. \n",
    "\n",
    "The keyboard shortcuts for these options are displayed next to them in the `Run` tab. It will be extremely useful for you to learn at least one of these shortcuts, particularly the `Run Selected Cells` shortcut.\n",
    "\n",
    "<img src=\"https://raw.githubusercontent.com/campbelle1/CAN2023/main/(2)Run_cells.gif\" width=\"1000\" align=\"center\">\n",
    "\n",
    "> *Running cells*\n",
    "\n",
    "****"
   ]
  },
  {
   "cell_type": "markdown",
   "id": "f166216f",
   "metadata": {},
   "source": [
    "## Executing cells and outputs\n",
    "\n",
    "To the left of a code cell, you will see `[ ]:`. Within the brackets, you will see a number when a cell that has been successfully executed. In notebooks, cells can be run out of order, so this number on the side indicates the order in which the cell was executed in the kernel. \n",
    "\n",
    "When the brackets are blue, the corresponding cell is referred to as the input cell, and when the brackets are red, the corresponding cell is referred to as the output cell. \n",
    "\n",
    "When a cell has `[*]:` next to it, it means that the cell is currently running or is queued to run. Sometimes, when running code, there will not be a visible output. We will discuss more of this in the upcoming coding lecture and exercises.\n",
    "\n",
    "<img src=\"https://raw.githubusercontent.com/campbelle1/CAN2023/5de18de7f09acdb00ca4bb1a14f6b6d4985506fa/(3)RunCells.gif\" width=\"1000\" align=\"center\">\n",
    "\n",
    "> *Cell outputs*\n",
    "\n",
    "### Interrupting and restarting the kernel\n",
    "From the menubar, there are three options for interrupting and restarting the kernel:\n",
    "- `Kernel > Interrupt Kernel` - stops the kernel from continuing to execute the cell that is currently running\n",
    "- `Kernel > Restart Kernel...` - erases all data, variables and other objects from the session, but keeps the output from the previous session\n",
    "- `Kernel > Restart Kernel and Clear All Outputs` - erases all objects in the session and clears the associated output from each cell\n",
    "\n",
    "\n",
    "<img src=\"https://raw.githubusercontent.com/campbelle1/CAN2023/8bb70cb95dd28c7e3c71b6f589cdd63539d858bb/kernel-toolz.png\" width=\"1000\" align=\"center\">\n",
    "\n",
    "> *Icons for running cells, interrupting the kernel, and restarting the kernel*\n",
    "\n",
    "****"
   ]
  },
  {
   "cell_type": "markdown",
   "id": "ac954658",
   "metadata": {},
   "source": [
    "### <code style=\"background:#83ebd5;color:black\">Exercise:</code>\n",
    "\n",
    "Create a code cell and a markdown cell below. In the code cell, type a <u>simple</u> arithmetic problem using subtraction or addition, as you would in a calculator, and execute the cell to get the answer as an output. \n",
    "\n",
    "In the markdown cell, type your name, phone number, and home address on separate lines. Using the markdown cells above and the *Markdown in Jupyter Notebook Tutorial* guide as a reference, figure out how to bold your name, italicize your phone number, and underline your address.\n",
    "****"
   ]
  },
  {
   "cell_type": "markdown",
   "id": "12396ac8",
   "metadata": {},
   "source": [
    "# Python Basics\n",
    "\n",
    "Now that we understand the Jupyter Notebook environment, let's become acquainted with coding in Python. We will start off with simple arithmetic operators, as this is very similar to what we see in our math classes.\n",
    "\n",
    "\n",
    "## Arithmetic Operators\n",
    "\n",
    "In Python, you can perform mathematical operations, as you could do in a calculator. As such, the same rules around math (i.e. order of operations) follow. To perform these operations, you can use the operators listed below:\n",
    "\n",
    "<br>\n",
    "\n",
    "<div>\n",
    "<img src=\"https://raw.githubusercontent.com/campbelle1/Introduction-to-Data-Science/38ca37054d01d81ad5007be4473edbf94f8d6ab0/Week%201/arithmetic%20operators.png\" width=\"600\"/>\n",
    "</div>"
   ]
  },
  {
   "cell_type": "code",
   "execution_count": null,
   "id": "a26e75ab",
   "metadata": {},
   "outputs": [],
   "source": [
    "#Example of a multiplication expression\n",
    "\n",
    "5.5 * 22"
   ]
  },
  {
   "cell_type": "code",
   "execution_count": null,
   "id": "69abe298",
   "metadata": {},
   "outputs": [],
   "source": [
    "#Example of a subtraction expression\n",
    "\n",
    "106 - 88"
   ]
  },
  {
   "cell_type": "code",
   "execution_count": null,
   "id": "c4423272",
   "metadata": {},
   "outputs": [],
   "source": [
    "#Following order of operations, what will the below expression give us?\n",
    "\n",
    "5 - 2 * 3 + 12"
   ]
  },
  {
   "cell_type": "code",
   "execution_count": null,
   "id": "5ffa04e6",
   "metadata": {},
   "outputs": [],
   "source": [
    "#Following order of operations, what will the below expression give us?\n",
    "\n",
    "(3**2 + 6) * 6"
   ]
  },
  {
   "cell_type": "code",
   "execution_count": null,
   "id": "c624d440",
   "metadata": {},
   "outputs": [],
   "source": [
    "#Spacing operators between numbers and operators is fine, but Python is very strict about following syntax rules\n",
    "\n",
    "3 ** 2"
   ]
  },
  {
   "cell_type": "code",
   "execution_count": null,
   "id": "65b5c720",
   "metadata": {},
   "outputs": [],
   "source": [
    "#Not following the rules will give you an error\n",
    "\n",
    "3 * * 2"
   ]
  },
  {
   "cell_type": "markdown",
   "id": "007c6591",
   "metadata": {},
   "source": [
    "## Variable Assignments & Call Expressions\n",
    "\n",
    "In Python, there are various types of *objects*, which can be used to store data. To easily access this data, we can give objects names through *variable assignment*. Using variable assignment, we can store values and access them for later use. This is akin to variables we see in math, like $x = 2 * 3 + 5$. \n",
    "\n",
    "We can use variable assignment to assign a value and use it in another expression. Variables have to start with a letter and can't have any spaces in them. We use a single equal sign (`=`) to assign variables."
   ]
  },
  {
   "cell_type": "code",
   "execution_count": null,
   "id": "7fbf79dc",
   "metadata": {},
   "outputs": [],
   "source": [
    "num_1 = 56 * 42"
   ]
  },
  {
   "cell_type": "markdown",
   "id": "6b25bd46",
   "metadata": {},
   "source": [
    "Here we defined `num_1`, but when we ran the cell, nothing happened. That is because an variable assignment does not warrant any output. If we want to see our newly assigned variable, we will have to *call* for it by typing it in our cell and executing the cell:"
   ]
  },
  {
   "cell_type": "code",
   "execution_count": null,
   "id": "37d0e2ba",
   "metadata": {},
   "outputs": [],
   "source": [
    "num_1"
   ]
  },
  {
   "cell_type": "markdown",
   "id": "7879b694",
   "metadata": {},
   "source": [
    "Using `num_1`, let's create a new variable called `num_2`"
   ]
  },
  {
   "cell_type": "code",
   "execution_count": null,
   "id": "53798188",
   "metadata": {},
   "outputs": [],
   "source": [
    "num_2 = num_1 // 7\n",
    "num_2"
   ]
  },
  {
   "cell_type": "code",
   "execution_count": null,
   "id": "01a2d23a",
   "metadata": {},
   "outputs": [],
   "source": [
    "num_3"
   ]
  },
  {
   "cell_type": "markdown",
   "id": "84600611",
   "metadata": {},
   "source": [
    "Sometimes when we are running code, we may skip around or even forget to assign a variable, in which case we get the above error. In general, errors tell you want is wrong and can even give a hint on how to fix it. Let's define `num_3` to resolve this error."
   ]
  },
  {
   "cell_type": "code",
   "execution_count": null,
   "id": "1f99e559",
   "metadata": {},
   "outputs": [],
   "source": [
    "num_3 = num_2 % 36\n",
    "num_3"
   ]
  },
  {
   "cell_type": "markdown",
   "id": "ab398e50",
   "metadata": {},
   "source": [
    "Note it is important to understand when to expect an output and when not to. \n",
    "\n",
    "Making a **statement**, such as assigning a variable or importing a library does not give an output. The computer will simply perform the desired task behind the scenes. \n",
    "\n",
    "When we type a variable name (like we did for `num_1`) or a **call expression** for a function, we ask the computer to return something, which prints to the console as an output. \n",
    "\n",
    "Below, we will learn how to call for functions and import other functions from libraries."
   ]
  },
  {
   "cell_type": "markdown",
   "id": "fb5db067",
   "metadata": {},
   "source": [
    "## Calling Functions & Importing Libraries\n",
    "\n",
    "### Calling for functions\n",
    "\n",
    "Python comes with a lot of built-in functions. A *function* is a set of code that performs a task. \n",
    "\n",
    "A basic call expression for a function looks something like:  `function(...)`\n",
    "\n",
    "Functions have <u>*arguments*</u> which are used as inputs. Functions take these inputs and perform task(s), which may result in an output that is printed to the console or it may be \"behind the scenes\".\n",
    "\n",
    "One of the most basic functions you will use in Python is the `print()` function. As the name suggests, the `print()` function prints an output to a cell:"
   ]
  },
  {
   "cell_type": "code",
   "execution_count": null,
   "id": "d3453f49",
   "metadata": {},
   "outputs": [],
   "source": [
    "print(5+2)"
   ]
  },
  {
   "cell_type": "markdown",
   "id": "1f40f7b0",
   "metadata": {},
   "source": [
    "It's important to understand that the `print()` function allows us to print all things to a cell that are called into it as opposed to just calling a variable, which will disappear after the next line of code."
   ]
  },
  {
   "cell_type": "code",
   "execution_count": null,
   "id": "530d90bd",
   "metadata": {},
   "outputs": [],
   "source": [
    "a = 9\n",
    "b = 11\n",
    "\n",
    "a\n",
    "b"
   ]
  },
  {
   "cell_type": "code",
   "execution_count": null,
   "id": "3905afb9",
   "metadata": {},
   "outputs": [],
   "source": [
    "a = 9\n",
    "b = 11\n",
    "\n",
    "print(a)\n",
    "print(b)"
   ]
  },
  {
   "cell_type": "markdown",
   "id": "4ad0f360",
   "metadata": {},
   "source": [
    "Another important function to know in Python is the `help()` function. The `help()` function requires another function as input. In exchange, it provides documentation on how to use that function:"
   ]
  },
  {
   "cell_type": "code",
   "execution_count": null,
   "id": "1a26c45a",
   "metadata": {},
   "outputs": [],
   "source": [
    "help(print)"
   ]
  },
  {
   "cell_type": "markdown",
   "id": "a8ae5fbb",
   "metadata": {},
   "source": [
    "The `help()` function is useful because it allows you to see how a function is used, what arguments are required, and other useful information."
   ]
  },
  {
   "cell_type": "markdown",
   "id": "dac9876b",
   "metadata": {},
   "source": [
    "### Importing libraries\n",
    "\n",
    "Sometimes we may need to use things that are not built-in to Python. In these cases, we need to use the `import` statement to import the libraries that we need. Let's import the `math` library, which contains additional math functions that we can use:"
   ]
  },
  {
   "cell_type": "code",
   "execution_count": null,
   "id": "d08276d8",
   "metadata": {},
   "outputs": [],
   "source": [
    "import math"
   ]
  },
  {
   "cell_type": "markdown",
   "id": "c8670648",
   "metadata": {},
   "source": [
    "When using a function that comes from a library, the call expression for said function looks like: `library_name.function_name()`."
   ]
  },
  {
   "cell_type": "code",
   "execution_count": null,
   "id": "40f536f8",
   "metadata": {},
   "outputs": [],
   "source": [
    "math.sqrt(4)"
   ]
  },
  {
   "cell_type": "markdown",
   "id": "29a79ce6",
   "metadata": {},
   "source": [
    "Above we used the `sqrt()` function in the `math` library to find the square root of the input argument, which was 4. \n",
    "\n",
    "\n",
    "Functions can also have multiple arguments, which are separated by a comma:"
   ]
  },
  {
   "cell_type": "code",
   "execution_count": null,
   "id": "2a35da07",
   "metadata": {
    "scrolled": true
   },
   "outputs": [],
   "source": [
    "math.pow(2,3)"
   ]
  },
  {
   "cell_type": "markdown",
   "id": "c50512e4",
   "metadata": {},
   "source": [
    "For a full list of all the functions you can use from the `math` library, refer to the online documentation:\n",
    "https://docs.python.org/3/library/math.html\n",
    "\n",
    "Other important libraries we will use in this course include the `pandas` library, `numpy` library, and `matplotlib` library, which each have their own documentation as well."
   ]
  },
  {
   "cell_type": "markdown",
   "id": "6d518283",
   "metadata": {},
   "source": [
    "Lastly, functions can be used as input for another function, creating what is called a *nested function*. **What do you think the below nested function is doing? What do you think the output will be?**"
   ]
  },
  {
   "cell_type": "code",
   "execution_count": null,
   "id": "cda82e4c",
   "metadata": {},
   "outputs": [],
   "source": [
    "math.sqrt(math.pow(3,4))"
   ]
  },
  {
   "cell_type": "markdown",
   "id": "8d61bae7",
   "metadata": {},
   "source": [
    "### <code style=\"background:#83ebd5;color:black\">Exercise:</span>"
   ]
  },
  {
   "cell_type": "markdown",
   "id": "7fb74ee8",
   "metadata": {},
   "source": [
    "From the `math` library we can use the number pi by calling `math.pi`:"
   ]
  },
  {
   "cell_type": "code",
   "execution_count": null,
   "id": "ea7ff36b",
   "metadata": {},
   "outputs": [],
   "source": [
    "math.pi"
   ]
  },
  {
   "cell_type": "markdown",
   "id": "ff507251",
   "metadata": {},
   "source": [
    "1. How can we write an expression in Python for determining the area of a circle for a given radius?\n",
    "2. How can we find this area for a circle with a radius of 5? Assign this value to a variable called `radius` and use it in the expression above."
   ]
  },
  {
   "cell_type": "code",
   "execution_count": null,
   "id": "0a849aea",
   "metadata": {},
   "outputs": [],
   "source": [
    "# Write your answers here\n"
   ]
  },
  {
   "cell_type": "markdown",
   "id": "350c402e",
   "metadata": {},
   "source": [
    "# Data Types\n",
    "\n",
    "Python has built-in data types that are used to build data structures, as input for various functions, and many other applications. The major data types we will discuss in this course are booleans, strings, integers, and floats."
   ]
  },
  {
   "cell_type": "markdown",
   "id": "9867f7c4",
   "metadata": {},
   "source": [
    "## Booleans\n",
    "\n",
    "Booleans are a binary data type consisting of `True` or `False` values. These values equate to the numeric values 1 and 0, respectively. They are often used in comparison operators and control statements (to be discussed in a future lecture)."
   ]
  },
  {
   "cell_type": "code",
   "execution_count": null,
   "id": "35347e2d",
   "metadata": {},
   "outputs": [],
   "source": [
    "2 + 3 < 6 - 4"
   ]
  },
  {
   "cell_type": "markdown",
   "id": "bdcaaa5c",
   "metadata": {},
   "source": [
    "You can use the `bool()` function to turn a variable into a boolean. Anything of value will be `True`, anything equal to 0 will be `False`."
   ]
  },
  {
   "cell_type": "code",
   "execution_count": null,
   "id": "f85b892d",
   "metadata": {},
   "outputs": [],
   "source": [
    "bool(0)"
   ]
  },
  {
   "cell_type": "markdown",
   "id": "a92e4f79",
   "metadata": {},
   "source": [
    "## Strings\n",
    "\n",
    "Strings are a series of alphanumeric and punctuation characters. \n",
    "\n",
    "To make a string, place these characters inside a set of single, double, or triple quotations."
   ]
  },
  {
   "cell_type": "code",
   "execution_count": null,
   "id": "2f1b06db",
   "metadata": {},
   "outputs": [],
   "source": [
    "phrase = \"Is it harder to toot, or to tutor two tooters to toot?\"\n",
    "print(phrase)"
   ]
  },
  {
   "cell_type": "markdown",
   "id": "f797015c",
   "metadata": {},
   "source": [
    "The number of characters in a string can be determined by using the `len()` function"
   ]
  },
  {
   "cell_type": "code",
   "execution_count": null,
   "id": "f9f76ebb",
   "metadata": {},
   "outputs": [],
   "source": [
    "len(phrase)"
   ]
  },
  {
   "cell_type": "markdown",
   "id": "6503d507",
   "metadata": {},
   "source": [
    "Strings can be multiplied and added (concatenated) together"
   ]
  },
  {
   "cell_type": "code",
   "execution_count": null,
   "id": "52fb8485",
   "metadata": {},
   "outputs": [],
   "source": [
    "print(2*phrase)\n",
    "print(phrase+phrase)"
   ]
  },
  {
   "cell_type": "markdown",
   "id": "8d59d139",
   "metadata": {},
   "source": [
    "We see that Python prints the sentence twice, but these sentences run into each other (i.e. there is no space in between). \n",
    "\n",
    "We have to specifically tell Python to add this space. We can do this by printing the string variables that we want as an expression by using the `+` operator and a space in quotation marks (\" \"). \n",
    "\n",
    "We can also do this by adding multiple arguments to the `print()` function, separated by a comma."
   ]
  },
  {
   "cell_type": "code",
   "execution_count": null,
   "id": "89f3ac72",
   "metadata": {},
   "outputs": [],
   "source": [
    "three = 3\n",
    "print('My number is', three)"
   ]
  },
  {
   "cell_type": "code",
   "execution_count": null,
   "id": "df13e687",
   "metadata": {},
   "outputs": [],
   "source": [
    "print(phrase, phrase)\n",
    "print(phrase + \" \" + phrase)"
   ]
  },
  {
   "cell_type": "markdown",
   "id": "fdf68121",
   "metadata": {},
   "source": [
    "Numerical data types can also be converted to strings by using the `str()` function."
   ]
  },
  {
   "cell_type": "code",
   "execution_count": null,
   "id": "76533b30",
   "metadata": {},
   "outputs": [],
   "source": [
    "five = str(5)\n",
    "print(five)\n",
    "five + five"
   ]
  },
  {
   "cell_type": "markdown",
   "id": "bfd21e8d",
   "metadata": {},
   "source": [
    "Python also has what are called <u>*methods*</u>. A method is like a function in that it performs a task. However, methods are attributes that are associated with an object, while a function may need an input for it to be used. We can invoke methods by calling for it on an variable like so: `variable.method_name()`.\n",
    "\n",
    "\n",
    "Let's use the `.count()` method on the `phrase` variable to count how many times the word \"toot\" appears:"
   ]
  },
  {
   "cell_type": "code",
   "execution_count": null,
   "id": "51843b92",
   "metadata": {
    "scrolled": true
   },
   "outputs": [],
   "source": [
    "phrase.count('toot')"
   ]
  },
  {
   "cell_type": "markdown",
   "id": "3836ab54",
   "metadata": {},
   "source": [
    "We can also split up a string variable using the `.split()` method. The `.split()` method breaks up a string based on a specified expression. \n",
    "\n",
    "For example, we can split up `phrase` by the spaces (\" \") in it:"
   ]
  },
  {
   "cell_type": "code",
   "execution_count": null,
   "id": "dbe83b80",
   "metadata": {},
   "outputs": [],
   "source": [
    "phrase.split(\" \")"
   ]
  },
  {
   "cell_type": "markdown",
   "id": "e9aaf5fe",
   "metadata": {},
   "source": [
    "This creates a `list` of all the words in `phrases`. We'll learn more about lists later. For now, we can count the number of words by using the above code as an argument for the `len()` function."
   ]
  },
  {
   "cell_type": "code",
   "execution_count": null,
   "id": "1395ae67",
   "metadata": {},
   "outputs": [],
   "source": [
    "len(phrase.split(\" \"))"
   ]
  },
  {
   "cell_type": "markdown",
   "id": "a944d89e",
   "metadata": {},
   "source": [
    "Finally, we can replace words in a string variable by using the `.replace()` method. With this method, we can specify the expression we want to replace, followed by what we want to replace it with."
   ]
  },
  {
   "cell_type": "code",
   "execution_count": null,
   "id": "58cca89d",
   "metadata": {},
   "outputs": [],
   "source": [
    "phrase.replace(\"harder\", \"easier\")"
   ]
  },
  {
   "cell_type": "markdown",
   "id": "75808084",
   "metadata": {},
   "source": [
    "Documentation for the `.count()`, `.replace()`, and `.split()` methods, as well as other string methods, can be found <a href=\"https://docs.python.org/3/library/stdtypes.html#textseq\">here</a>."
   ]
  },
  {
   "cell_type": "markdown",
   "id": "3b0ba18c",
   "metadata": {},
   "source": [
    "### Escape Sequences\n",
    "\n",
    "Escape sequences are string modifiers that allow for the use of certain characters that would otherwise be misinterpreted by Python. For example, because strings are created <u>by</u> the use of quotes, the escape sequences `\\'` and `\\\"` allow for the use of quotes as <u>part</u> of a string:"
   ]
  },
  {
   "cell_type": "code",
   "execution_count": null,
   "id": "69467f96",
   "metadata": {},
   "outputs": [],
   "source": [
    "words = 'My dad said, \\\"You\\'re going to be okay.\\\" I looked at him and gave him a hug.'\n",
    "print(words)"
   ]
  },
  {
   "cell_type": "markdown",
   "id": "5b319094",
   "metadata": {},
   "source": [
    "Other useful escape sequences include `\\n` and `\\t`. These allow for a new line and tab spacing to be added to a string, respectively."
   ]
  },
  {
   "cell_type": "code",
   "execution_count": null,
   "id": "2863d6e2",
   "metadata": {},
   "outputs": [],
   "source": [
    "sentences = 'This is the first sentence \\nThis is the second sentence! \\tThis is the third sentence?'\n",
    "print(sentences)"
   ]
  },
  {
   "cell_type": "markdown",
   "id": "a1c103b2",
   "metadata": {},
   "source": [
    "## Integers\n",
    "\n",
    "Integers are a numeric data type that consist of whole numbers.\n",
    "\n",
    "Integers can be used to do fast mathematical calculations.\n",
    "\n",
    "Certain mathematical functions only give integer outputs. For example, the `math.floor()` and `math.ceil()` functions can take an expression or variable and rounds it down or up, respectively, to the nearest whole number."
   ]
  },
  {
   "cell_type": "code",
   "execution_count": null,
   "id": "48b16912",
   "metadata": {},
   "outputs": [],
   "source": [
    "math.floor(7/3)"
   ]
  },
  {
   "cell_type": "code",
   "execution_count": null,
   "id": "4082a5dd",
   "metadata": {},
   "outputs": [],
   "source": [
    "math.ceil(4.82)"
   ]
  },
  {
   "cell_type": "markdown",
   "id": "9e340d28",
   "metadata": {},
   "source": [
    "## Floats\n",
    "\n",
    "Floats are a numeric data type that consists of a whole number followed by floating decimal places. \n",
    "\n",
    "Floats can hold up to 15 significant figures after a decimal point and are used for more accurate calculations.\n",
    "\n",
    "The `round()` function allows for a float variable to be rounded to a given decimal place:"
   ]
  },
  {
   "cell_type": "code",
   "execution_count": null,
   "id": "00ee71d0",
   "metadata": {},
   "outputs": [],
   "source": [
    "pi = math.pi\n",
    "round(pi, 2)"
   ]
  },
  {
   "cell_type": "markdown",
   "id": "1a868be2",
   "metadata": {},
   "source": [
    "Floats and integers can be interchanged using the `float()` and `int()` functions."
   ]
  },
  {
   "cell_type": "code",
   "execution_count": null,
   "id": "6d6fadfa",
   "metadata": {},
   "outputs": [],
   "source": [
    "print(float(-2))\n",
    "print(int(pi))"
   ]
  },
  {
   "cell_type": "markdown",
   "id": "06494dc0",
   "metadata": {},
   "source": [
    "Another useful function to know as it pertains to data types is the `type()` function. The type function allows you to determine what data type a variable is."
   ]
  },
  {
   "cell_type": "code",
   "execution_count": null,
   "id": "521f0a9d",
   "metadata": {},
   "outputs": [],
   "source": [
    "type(54//9)"
   ]
  },
  {
   "cell_type": "markdown",
   "id": "30e1c007",
   "metadata": {},
   "source": [
    "# Comparison & Logical Operators\n",
    "\n",
    "### Comparison Operators\n",
    "Comparison operators can be used to compare data types and will return a boolean value of `True` or `False`. The Python syntax for comparison operators is listed below.\n",
    "\n",
    "<br>\n",
    "\n",
    "<div>\n",
    "<img src=\"https://github.com/campbelle1/Introduction-to-Data-Science/blob/main/Week%201/comparison-operators.png?raw=true\" width=\"600\"/>\n",
    "</div>\n",
    "\n",
    "Note that the operator for equal is a double equal sign (`==`) and not `=`. Remember that a single equal sign is reserved for variable assignment.\n",
    "\n",
    "Just as shown before, you can compare numbers"
   ]
  },
  {
   "cell_type": "code",
   "execution_count": null,
   "id": "3eb09103",
   "metadata": {},
   "outputs": [],
   "source": [
    "n = 26 != 18\n",
    "print(n)"
   ]
  },
  {
   "cell_type": "markdown",
   "id": "95a72272",
   "metadata": {},
   "source": [
    "You can also compare strings:"
   ]
  },
  {
   "cell_type": "code",
   "execution_count": null,
   "id": "650eb280",
   "metadata": {},
   "outputs": [],
   "source": [
    "m = \"Sally\" == \"Susie\"\n",
    "print(m)"
   ]
  },
  {
   "cell_type": "markdown",
   "id": "0c837e1d",
   "metadata": {},
   "source": [
    "Strings are compared according to their Unicode numerical value. To learn more information about Unicode, <a href=\"https://en.wikipedia.org/wiki/List_of_Unicode_characters\">click here</a>."
   ]
  },
  {
   "cell_type": "markdown",
   "id": "69df392a",
   "metadata": {},
   "source": [
    "### Logical Operators\n",
    "\n",
    "Logical operators are also used in functions and conditional statements. They also output boolean values.\n",
    "\n",
    "<br>\n",
    "\n",
    "<div>\n",
    "<img src=\"https://github.com/campbelle1/Introduction-to-Data-Science/blob/main/Week%201/logical-operators.png?raw=true\" width=\"600\"/>\n",
    "</div>"
   ]
  },
  {
   "cell_type": "markdown",
   "id": "2991c01b",
   "metadata": {},
   "source": [
    "When comparing variables with the logical operator `and`, both variables must equate to a `True` value for the overall boolean comparison to be `True`. If one value equates to `False`, then the entire comparison is `False`"
   ]
  },
  {
   "cell_type": "code",
   "execution_count": null,
   "id": "8c0be222",
   "metadata": {},
   "outputs": [],
   "source": [
    "q = 27\n",
    "q < 30 and q > 15"
   ]
  },
  {
   "cell_type": "code",
   "execution_count": null,
   "id": "42bf8092",
   "metadata": {},
   "outputs": [],
   "source": [
    "q < 10 and q != 15"
   ]
  },
  {
   "cell_type": "markdown",
   "id": "8dafe629",
   "metadata": {},
   "source": [
    "When comparing variables with the logical operator `or`, only one variable needs to equate to a `True` value for the overall boolean comparison to be `True`. If both are `False`, then the entire boolean comparison is `False`"
   ]
  },
  {
   "cell_type": "code",
   "execution_count": null,
   "id": "ceb9be02",
   "metadata": {},
   "outputs": [],
   "source": [
    "q < 10 or q > 15"
   ]
  },
  {
   "cell_type": "code",
   "execution_count": null,
   "id": "3f38a458",
   "metadata": {},
   "outputs": [],
   "source": [
    "q < 10 or q > 65"
   ]
  },
  {
   "cell_type": "markdown",
   "id": "7efe9270",
   "metadata": {},
   "source": [
    "The `not` logical operator simply negates the boolean value of a variable. People often use the `!=` comparison operator to do the same thing:"
   ]
  },
  {
   "cell_type": "code",
   "execution_count": null,
   "id": "ee04b980",
   "metadata": {},
   "outputs": [],
   "source": [
    "not 1 < 2"
   ]
  },
  {
   "cell_type": "markdown",
   "id": "e7830b34",
   "metadata": {},
   "source": [
    "Below is a table of the outcomes of hypothetical logical comparisons with `and` and `or`:\n",
    "\n",
    "<br>\n",
    "\n",
    "<div>\n",
    "<img src=\"https://github.com/campbelle1/Introduction-to-Data-Science/blob/main/Week%201/comparison-table.png?raw=truee\" width=\"600\"/>\n",
    "</div>"
   ]
  },
  {
   "cell_type": "markdown",
   "id": "14d1b462",
   "metadata": {},
   "source": [
    "### Bitwise Operators \n",
    "\n",
    "In addition to logical operators, Python can use what are called *bitwise operators*. These operators are useful when we do selection of data from dataframes, which we will talk about in a future.\n",
    "\n",
    "For now, just know that `&` is the bitwise operator for `and`; the `|` symbol is the bitwise operator for `or`. "
   ]
  },
  {
   "cell_type": "markdown",
   "id": "70aa0032",
   "metadata": {},
   "source": [
    "\n"
   ]
  }
 ],
 "metadata": {
  "kernelspec": {
   "display_name": "Python 3 (ipykernel)",
   "language": "python",
   "name": "python3"
  },
  "language_info": {
   "codemirror_mode": {
    "name": "ipython",
    "version": 3
   },
   "file_extension": ".py",
   "mimetype": "text/x-python",
   "name": "python",
   "nbconvert_exporter": "python",
   "pygments_lexer": "ipython3",
   "version": "3.9.12"
  }
 },
 "nbformat": 4,
 "nbformat_minor": 5
}
